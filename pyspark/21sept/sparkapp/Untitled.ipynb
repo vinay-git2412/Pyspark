{
 "cells": [
  {
   "cell_type": "code",
   "execution_count": 1,
   "id": "888ed20c",
   "metadata": {},
   "outputs": [],
   "source": [
    "from pyspark.sql import SparkSession"
   ]
  },
  {
   "cell_type": "code",
   "execution_count": 4,
   "id": "1bee36a9",
   "metadata": {},
   "outputs": [
    {
     "name": "stderr",
     "output_type": "stream",
     "text": [
      "Setting default log level to \"WARN\".\n",
      "To adjust logging level use sc.setLogLevel(newLevel). For SparkR, use setLogLevel(newLevel).\n",
      "23/09/21 05:52:57 WARN NativeCodeLoader: Unable to load native-hadoop library for your platform... using builtin-java classes where applicable\n"
     ]
    }
   ],
   "source": [
    "spark = SparkSession.builder.appName('App').getOrCreate()"
   ]
  },
  {
   "cell_type": "code",
   "execution_count": 13,
   "id": "962ea05e",
   "metadata": {},
   "outputs": [],
   "source": [
    "df = spark.read.csv('input_data.csv', header = True, inferSchema=True)"
   ]
  },
  {
   "cell_type": "code",
   "execution_count": 14,
   "id": "0650e498",
   "metadata": {},
   "outputs": [
    {
     "name": "stdout",
     "output_type": "stream",
     "text": [
      "+------------+-----------+------------+-----------+-------+\n",
      "|sepal.length|sepal.width|petal.length|petal.width|variety|\n",
      "+------------+-----------+------------+-----------+-------+\n",
      "|         5.1|        3.5|         1.4|        0.2| Setosa|\n",
      "|         4.9|        3.0|         1.4|        0.2| Setosa|\n",
      "|         4.7|        3.2|         1.3|        0.2| Setosa|\n",
      "|         4.6|        3.1|         1.5|        0.2| Setosa|\n",
      "|         5.0|        3.6|         1.4|        0.2| Setosa|\n",
      "|         5.4|        3.9|         1.7|        0.4| Setosa|\n",
      "|         4.6|        3.4|         1.4|        0.3| Setosa|\n",
      "|         5.0|        3.4|         1.5|        0.2| Setosa|\n",
      "|         4.4|        2.9|         1.4|        0.2| Setosa|\n",
      "|         4.9|        3.1|         1.5|        0.1| Setosa|\n",
      "|         5.4|        3.7|         1.5|        0.2| Setosa|\n",
      "|         4.8|        3.4|         1.6|        0.2| Setosa|\n",
      "|         4.8|        3.0|         1.4|        0.1| Setosa|\n",
      "|         4.3|        3.0|         1.1|        0.1| Setosa|\n",
      "|         5.8|        4.0|         1.2|        0.2| Setosa|\n",
      "|         5.7|        4.4|         1.5|        0.4| Setosa|\n",
      "|         5.4|        3.9|         1.3|        0.4| Setosa|\n",
      "|         5.1|        3.5|         1.4|        0.3| Setosa|\n",
      "|         5.7|        3.8|         1.7|        0.3| Setosa|\n",
      "|         5.1|        3.8|         1.5|        0.3| Setosa|\n",
      "+------------+-----------+------------+-----------+-------+\n",
      "only showing top 20 rows\n",
      "\n"
     ]
    }
   ],
   "source": [
    "df.show()"
   ]
  },
  {
   "cell_type": "code",
   "execution_count": 15,
   "id": "dd43b758",
   "metadata": {},
   "outputs": [],
   "source": [
    "df = df.filter(df[\"variety\"] == \"Versicolor\")"
   ]
  },
  {
   "cell_type": "code",
   "execution_count": 16,
   "id": "e6581366",
   "metadata": {},
   "outputs": [
    {
     "name": "stdout",
     "output_type": "stream",
     "text": [
      "+------------+-----------+------------+-----------+----------+\n",
      "|sepal.length|sepal.width|petal.length|petal.width|   variety|\n",
      "+------------+-----------+------------+-----------+----------+\n",
      "|         7.0|        3.2|         4.7|        1.4|Versicolor|\n",
      "|         6.4|        3.2|         4.5|        1.5|Versicolor|\n",
      "|         6.9|        3.1|         4.9|        1.5|Versicolor|\n",
      "|         5.5|        2.3|         4.0|        1.3|Versicolor|\n",
      "|         6.5|        2.8|         4.6|        1.5|Versicolor|\n",
      "|         5.7|        2.8|         4.5|        1.3|Versicolor|\n",
      "|         6.3|        3.3|         4.7|        1.6|Versicolor|\n",
      "|         4.9|        2.4|         3.3|        1.0|Versicolor|\n",
      "|         6.6|        2.9|         4.6|        1.3|Versicolor|\n",
      "|         5.2|        2.7|         3.9|        1.4|Versicolor|\n",
      "|         5.0|        2.0|         3.5|        1.0|Versicolor|\n",
      "|         5.9|        3.0|         4.2|        1.5|Versicolor|\n",
      "|         6.0|        2.2|         4.0|        1.0|Versicolor|\n",
      "|         6.1|        2.9|         4.7|        1.4|Versicolor|\n",
      "|         5.6|        2.9|         3.6|        1.3|Versicolor|\n",
      "|         6.7|        3.1|         4.4|        1.4|Versicolor|\n",
      "|         5.6|        3.0|         4.5|        1.5|Versicolor|\n",
      "|         5.8|        2.7|         4.1|        1.0|Versicolor|\n",
      "|         6.2|        2.2|         4.5|        1.5|Versicolor|\n",
      "|         5.6|        2.5|         3.9|        1.1|Versicolor|\n",
      "+------------+-----------+------------+-----------+----------+\n",
      "only showing top 20 rows\n",
      "\n"
     ]
    }
   ],
   "source": [
    "df.show()"
   ]
  },
  {
   "cell_type": "code",
   "execution_count": 17,
   "id": "cbb48631",
   "metadata": {},
   "outputs": [
    {
     "name": "stderr",
     "output_type": "stream",
     "text": [
      "                                                                                \r"
     ]
    }
   ],
   "source": [
    "df.write.parquet('output_data.parquet')"
   ]
  },
  {
   "cell_type": "code",
   "execution_count": null,
   "id": "497b37f2",
   "metadata": {},
   "outputs": [],
   "source": []
  }
 ],
 "metadata": {
  "kernelspec": {
   "display_name": "Python 3 (ipykernel)",
   "language": "python",
   "name": "python3"
  },
  "language_info": {
   "codemirror_mode": {
    "name": "ipython",
    "version": 3
   },
   "file_extension": ".py",
   "mimetype": "text/x-python",
   "name": "python",
   "nbconvert_exporter": "python",
   "pygments_lexer": "ipython3",
   "version": "3.11.4"
  }
 },
 "nbformat": 4,
 "nbformat_minor": 5
}
